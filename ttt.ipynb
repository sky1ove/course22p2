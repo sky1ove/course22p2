{
  "nbformat": 4,
  "nbformat_minor": 0,
  "metadata": {
    "colab": {
      "provenance": [],
      "authorship_tag": "ABX9TyPMemWlgzzquIG3UPH8plmF",
      "include_colab_link": true
    },
    "kernelspec": {
      "name": "python3",
      "display_name": "Python 3"
    },
    "language_info": {
      "name": "python"
    }
  },
  "cells": [
    {
      "cell_type": "markdown",
      "metadata": {
        "id": "view-in-github",
        "colab_type": "text"
      },
      "source": [
        "<a href=\"https://colab.research.google.com/github/sky1ove/course22p2/blob/master/ttt.ipynb\" target=\"_parent\"><img src=\"https://colab.research.google.com/assets/colab-badge.svg\" alt=\"Open In Colab\"/></a>"
      ]
    },
    {
      "cell_type": "code",
      "execution_count": 1,
      "metadata": {
        "colab": {
          "base_uri": "https://localhost:8080/"
        },
        "id": "10oAIXdCaaWc",
        "outputId": "47a5fd15-acf8-4483-caf7-1b7c53a300ab"
      },
      "outputs": [
        {
          "output_type": "stream",
          "name": "stdout",
          "text": [
            "Cloning into 'course22p2'...\n",
            "remote: Enumerating objects: 1183, done.\u001b[K\n",
            "remote: Counting objects: 100% (1183/1183), done.\u001b[K\n",
            "remote: Compressing objects: 100% (489/489), done.\u001b[K\n",
            "remote: Total 1183 (delta 718), reused 1111 (delta 692), pack-reused 0\u001b[K\n",
            "Receiving objects: 100% (1183/1183), 95.15 MiB | 21.52 MiB/s, done.\n",
            "Resolving deltas: 100% (718/718), done.\n"
          ]
        }
      ],
      "source": [
        "!git clone https://github.com/sky1ove/course22p2.git"
      ]
    },
    {
      "cell_type": "code",
      "source": [
        "!git status"
      ],
      "metadata": {
        "colab": {
          "base_uri": "https://localhost:8080/"
        },
        "id": "vjDDgs1-aiRe",
        "outputId": "3b502d90-6d41-459a-85be-01d52f99507c"
      },
      "execution_count": 8,
      "outputs": [
        {
          "output_type": "stream",
          "name": "stdout",
          "text": [
            "On branch master\n",
            "Your branch is up to date with 'origin/master'.\n",
            "\n",
            "Untracked files:\n",
            "  (use \"git add <file>...\" to include in what will be committed)\n",
            "\t\u001b[31mtest\u001b[m\n",
            "\n",
            "nothing added to commit but untracked files present (use \"git add\" to track)\n"
          ]
        }
      ]
    },
    {
      "cell_type": "code",
      "source": [
        "!git add ."
      ],
      "metadata": {
        "id": "GlghRJpRb5O8"
      },
      "execution_count": 9,
      "outputs": []
    },
    {
      "cell_type": "code",
      "source": [
        "!git config --global user.email \"lcai888666@gmail.com\"\n",
        "!git config --global user.name \"sky1ove\""
      ],
      "metadata": {
        "id": "atEYI0bYb7Ez"
      },
      "execution_count": 11,
      "outputs": []
    },
    {
      "cell_type": "code",
      "source": [
        "!git commit -m \"aa\""
      ],
      "metadata": {
        "colab": {
          "base_uri": "https://localhost:8080/"
        },
        "id": "zjlVVT-KcE9M",
        "outputId": "66b679bb-8bb4-4987-964f-1ee61a8a41a1"
      },
      "execution_count": 13,
      "outputs": [
        {
          "output_type": "stream",
          "name": "stdout",
          "text": [
            "[master f3a4571] aa\n",
            " 1 file changed, 0 insertions(+), 0 deletions(-)\n",
            " create mode 100644 test\n"
          ]
        }
      ]
    },
    {
      "cell_type": "code",
      "source": [
        "!git push"
      ],
      "metadata": {
        "colab": {
          "base_uri": "https://localhost:8080/"
        },
        "id": "ZYXp47MCcV31",
        "outputId": "796bb1ac-33e8-4c9c-df51-d95401a6ff1f"
      },
      "execution_count": 14,
      "outputs": [
        {
          "output_type": "stream",
          "name": "stdout",
          "text": [
            "fatal: could not read Username for 'https://github.com': No such device or address\n"
          ]
        }
      ]
    },
    {
      "cell_type": "code",
      "source": [
        "%cd course22p2"
      ],
      "metadata": {
        "colab": {
          "base_uri": "https://localhost:8080/"
        },
        "id": "e_gprV6ualuz",
        "outputId": "edb2f736-a105-4b86-f47f-0fe410cd8f4a"
      },
      "execution_count": 5,
      "outputs": [
        {
          "output_type": "stream",
          "name": "stdout",
          "text": [
            "/content/course22p2\n"
          ]
        }
      ]
    },
    {
      "cell_type": "code",
      "source": [
        "!"
      ],
      "metadata": {
        "colab": {
          "base_uri": "https://localhost:8080/"
        },
        "id": "YHq7ktH6bhW0",
        "outputId": "ec017880-7ae5-495f-b674-eb3f6fe08f74"
      },
      "execution_count": 6,
      "outputs": [
        {
          "output_type": "stream",
          "name": "stdout",
          "text": [
            "LICENSE  MANIFEST.in  miniai  nbs  README.md  settings.ini  setup.py  summaries  xl\n"
          ]
        }
      ]
    },
    {
      "cell_type": "code",
      "source": [],
      "metadata": {
        "id": "qKo7Vj3abiGi"
      },
      "execution_count": null,
      "outputs": []
    }
  ]
}